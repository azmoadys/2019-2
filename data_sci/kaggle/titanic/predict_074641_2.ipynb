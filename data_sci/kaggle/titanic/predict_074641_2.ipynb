{
 "cells": [
  {
   "cell_type": "code",
   "execution_count": 56,
   "metadata": {},
   "outputs": [],
   "source": [
    "import pandas as pd\n",
    "import numpy as np\n",
    "%matplotlib inline\n",
    "import matplotlib.pyplot as plt\n",
    "import seaborn as sns"
   ]
  },
  {
   "cell_type": "code",
   "execution_count": 57,
   "metadata": {},
   "outputs": [],
   "source": [
    "train = pd.read_csv('./train.csv')"
   ]
  },
  {
   "cell_type": "code",
   "execution_count": 58,
   "metadata": {},
   "outputs": [],
   "source": [
    "train['Age'] = train['Age'].fillna(train['Age'].mean())"
   ]
  },
  {
   "cell_type": "code",
   "execution_count": 59,
   "metadata": {},
   "outputs": [],
   "source": [
    "train.loc[train['Age']<10, 'Age'] = 0\n",
    "train.loc[(train['Age']>=10)&(train['Age']<20), 'Age'] = 1\n",
    "train.loc[(train['Age']>=20)&(train['Age']<30), 'Age'] = 2\n",
    "train.loc[(train['Age']>=30)&(train['Age']<40), 'Age'] = 3\n",
    "train.loc[(train['Age']>=40)&(train['Age']<50), 'Age'] = 4\n",
    "train.loc[train['Age']>=50, 'Age'] = 5"
   ]
  },
  {
   "cell_type": "code",
   "execution_count": 60,
   "metadata": {},
   "outputs": [],
   "source": [
    "train['Fam'] = train['SibSp']+train['Parch']"
   ]
  },
  {
   "cell_type": "code",
   "execution_count": 61,
   "metadata": {},
   "outputs": [
    {
     "name": "stdout",
     "output_type": "stream",
     "text": [
      "PassengerId    891\n",
      "Survived       891\n",
      "Pclass         891\n",
      "Name           891\n",
      "Sex            891\n",
      "Age            891\n",
      "SibSp          891\n",
      "Parch          891\n",
      "Ticket         891\n",
      "Fare           891\n",
      "Cabin          204\n",
      "Embarked       889\n",
      "Fam            891\n",
      "dtype: int64\n",
      "168\n",
      "644\n",
      "77\n"
     ]
    }
   ],
   "source": [
    "print(train.count())\n",
    "print(train.loc[train['Embarked'] == 'C', 'Embarked'].count())\n",
    "print(train.loc[train['Embarked'] == 'S', 'Embarked'].count())\n",
    "print(train.loc[train['Embarked'] == 'Q', 'Embarked'].count())\n",
    "train['Embarked'] = train['Embarked'].fillna('S')"
   ]
  },
  {
   "cell_type": "code",
   "execution_count": 62,
   "metadata": {},
   "outputs": [],
   "source": [
    "train.loc[train['Embarked']=='C', 'Embarked'] =0\n",
    "train.loc[train['Embarked']=='S', 'Embarked'] =1\n",
    "train.loc[train['Embarked']=='Q', 'Embarked'] =2"
   ]
  },
  {
   "cell_type": "code",
   "execution_count": 63,
   "metadata": {},
   "outputs": [],
   "source": [
    "train.loc[train['Sex']=='male', 'Sex'] =0\n",
    "train.loc[train['Sex']=='female', 'Sex'] =1"
   ]
  },
  {
   "cell_type": "code",
   "execution_count": 64,
   "metadata": {},
   "outputs": [],
   "source": [
    "x_train = train[['Pclass', 'Sex', 'Age', 'Fam','Embarked']]\n",
    "y_train = train[['Survived']]"
   ]
  },
  {
   "cell_type": "code",
   "execution_count": 65,
   "metadata": {},
   "outputs": [
    {
     "data": {
      "text/plain": [
       "Pclass      0\n",
       "Sex         0\n",
       "Age         0\n",
       "Fam         0\n",
       "Embarked    0\n",
       "dtype: int64"
      ]
     },
     "execution_count": 65,
     "metadata": {},
     "output_type": "execute_result"
    }
   ],
   "source": [
    "from sklearn.tree import DecisionTreeClassifier\n",
    "x_train.isnull().sum()"
   ]
  },
  {
   "cell_type": "code",
   "execution_count": 66,
   "metadata": {},
   "outputs": [
    {
     "name": "stdout",
     "output_type": "stream",
     "text": [
      "0.8735777496839444\n",
      "0.76\n"
     ]
    }
   ],
   "source": [
    "x_valid1 = x_train[0:100]\n",
    "y_valid1 = y_train[0:100]\n",
    "\n",
    "x_train1 = x_train[100:]\n",
    "y_train1 = y_train[100:]\n",
    "\n",
    "tree1 = DecisionTreeClassifier()\n",
    "tree1.fit(x_train1, y_train1)\n",
    "print(tree1.score(x_train1, y_train1))\n",
    "print(tree1.score(x_valid1, y_valid1))"
   ]
  },
  {
   "cell_type": "code",
   "execution_count": 67,
   "metadata": {},
   "outputs": [
    {
     "name": "stdout",
     "output_type": "stream",
     "text": [
      "0.91\n",
      "0.7825537294563844\n"
     ]
    }
   ],
   "source": [
    "x_valid2 = x_train[100:]\n",
    "y_valid2 = y_train[100:]\n",
    "\n",
    "x_train2 = x_train[0:100]\n",
    "y_train2 = y_train[0:100]\n",
    "\n",
    "tree2 = DecisionTreeClassifier()\n",
    "tree2.fit(x_train2, y_train2)\n",
    "print(tree2.score(x_train2, y_train2))\n",
    "print(tree2.score(x_valid2, y_valid2))"
   ]
  },
  {
   "cell_type": "code",
   "execution_count": 68,
   "metadata": {},
   "outputs": [
    {
     "name": "stdout",
     "output_type": "stream",
     "text": [
      "0.8647281921618205\n",
      "0.82\n"
     ]
    }
   ],
   "source": [
    "x_valid3 = x_train[100:200]\n",
    "y_valid3 = y_train[100:200]\n",
    "\n",
    "x_train3 = pd.concat([x_train[0:100], x_train[200:]])\n",
    "y_train3 = pd.concat([y_train[0:100], y_train[200:]])\n",
    "\n",
    "tree3 = DecisionTreeClassifier()\n",
    "tree3.fit(x_train3, y_train3)\n",
    "print(tree3.score(x_train3, y_train3))\n",
    "print(tree3.score(x_valid3, y_valid3))"
   ]
  },
  {
   "cell_type": "markdown",
   "metadata": {},
   "source": [
    "### test"
   ]
  },
  {
   "cell_type": "code",
   "execution_count": 69,
   "metadata": {},
   "outputs": [],
   "source": [
    "test = pd.read_csv('./test.csv')"
   ]
  },
  {
   "cell_type": "code",
   "execution_count": 70,
   "metadata": {},
   "outputs": [
    {
     "data": {
      "text/plain": [
       "PassengerId      0\n",
       "Pclass           0\n",
       "Name             0\n",
       "Sex              0\n",
       "Age             86\n",
       "SibSp            0\n",
       "Parch            0\n",
       "Ticket           0\n",
       "Fare             1\n",
       "Cabin          327\n",
       "Embarked         0\n",
       "dtype: int64"
      ]
     },
     "execution_count": 70,
     "metadata": {},
     "output_type": "execute_result"
    }
   ],
   "source": [
    "test.isnull().sum()"
   ]
  },
  {
   "cell_type": "code",
   "execution_count": 71,
   "metadata": {},
   "outputs": [],
   "source": [
    "test['Age'] = test['Age'].fillna(test['Age'].mean())\n",
    "test.loc[test['Age']<10, 'Age'] =0\n",
    "test.loc[(test['Age']>=10)&(test['Age']<20), 'Age'] =1\n",
    "test.loc[(test['Age']>=20)&(test['Age']<30), 'Age'] =2\n",
    "test.loc[(test['Age']>=30)&(test['Age']<40), 'Age'] =3\n",
    "test.loc[(test['Age']>=40)&(test['Age']<50), 'Age'] =4\n",
    "test.loc[test['Age']>=50, 'Age'] =5"
   ]
  },
  {
   "cell_type": "code",
   "execution_count": 72,
   "metadata": {},
   "outputs": [],
   "source": [
    "test['Fam'] = test['SibSp']+test['Parch']"
   ]
  },
  {
   "cell_type": "code",
   "execution_count": 73,
   "metadata": {},
   "outputs": [],
   "source": [
    "test.loc[test['Embarked']=='C', 'Embarked'] =0\n",
    "test.loc[test['Embarked']=='S', 'Embarked'] =1\n",
    "test.loc[test['Embarked']=='Q', 'Embarked'] =2"
   ]
  },
  {
   "cell_type": "code",
   "execution_count": 74,
   "metadata": {},
   "outputs": [],
   "source": [
    "test.loc[test['Sex']=='male', 'Sex'] =0\n",
    "test.loc[test['Sex']=='female', 'Sex'] =1"
   ]
  },
  {
   "cell_type": "code",
   "execution_count": 75,
   "metadata": {},
   "outputs": [],
   "source": [
    "x_test = test[['Pclass', 'Sex', 'Age', 'Fam','Embarked']]"
   ]
  },
  {
   "cell_type": "code",
   "execution_count": 76,
   "metadata": {},
   "outputs": [],
   "source": [
    "prediction1 = tree1.predict(x_test)\n",
    "prediction2 = tree2.predict(x_test)\n",
    "prediction3 = tree3.predict(x_test)"
   ]
  },
  {
   "cell_type": "code",
   "execution_count": 77,
   "metadata": {},
   "outputs": [],
   "source": [
    "ensemble = (prediction1 + prediction2 +prediction3)/3\n",
    "ensemble[ensemble >0.5] = 1\n",
    "ensemble[ensemble <=0.5] = 0\n",
    "\n",
    "ensemble = ensemble.astype(int)"
   ]
  },
  {
   "cell_type": "code",
   "execution_count": 79,
   "metadata": {},
   "outputs": [],
   "source": [
    "submit = pd.DataFrame({\n",
    "    'PassengerId':test['PassengerId'],\n",
    "    'Survived' : ensemble\n",
    "})\n",
    "submit.to_csv('submit1.csv', index=False)"
   ]
  },
  {
   "cell_type": "code",
   "execution_count": null,
   "metadata": {},
   "outputs": [],
   "source": []
  },
  {
   "cell_type": "code",
   "execution_count": null,
   "metadata": {},
   "outputs": [],
   "source": []
  }
 ],
 "metadata": {
  "kernelspec": {
   "display_name": "Python [conda env:azmo_dev] *",
   "language": "python",
   "name": "conda-env-azmo_dev-py"
  },
  "language_info": {
   "codemirror_mode": {
    "name": "ipython",
    "version": 3
   },
   "file_extension": ".py",
   "mimetype": "text/x-python",
   "name": "python",
   "nbconvert_exporter": "python",
   "pygments_lexer": "ipython3",
   "version": "3.6.8"
  }
 },
 "nbformat": 4,
 "nbformat_minor": 2
}
